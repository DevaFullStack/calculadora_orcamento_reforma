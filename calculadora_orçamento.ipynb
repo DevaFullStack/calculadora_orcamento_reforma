{
  "nbformat": 4,
  "nbformat_minor": 0,
  "metadata": {
    "colab": {
      "provenance": [],
      "authorship_tag": "ABX9TyOQocbuH6zae1UlZDSkV3JZ",
      "include_colab_link": true
    },
    "kernelspec": {
      "name": "python3",
      "display_name": "Python 3"
    },
    "language_info": {
      "name": "python"
    }
  },
  "cells": [
    {
      "cell_type": "markdown",
      "metadata": {
        "id": "view-in-github",
        "colab_type": "text"
      },
      "source": [
        "<a href=\"https://colab.research.google.com/github/DevaFullStack/calculadora_orcamento_reforma/blob/main/calculadora_or%C3%A7amento.ipynb\" target=\"_parent\"><img src=\"https://colab.research.google.com/assets/colab-badge.svg\" alt=\"Open In Colab\"/></a>"
      ]
    },
    {
      "cell_type": "markdown",
      "source": [
        "# 🛠️ Calculadora de Orçamento para Reformas Residenciais\n",
        "\n",
        "Este projeto tem como objetivo auxiliar pequenos empreiteiros a calcular o custo estimado de uma reforma, considerando:\n",
        "\n",
        "- Área a ser reformada\n",
        "- Custo do material por metro quadrado\n",
        "- Horas de mão de obra\n",
        "- Valor da hora de trabalho\n",
        "\n",
        "O script coleta os dados, realiza os cálculos e exibe um resumo do orçamento para o cliente.\n"
      ],
      "metadata": {
        "id": "fSq2IiAtwHQp"
      }
    },
    {
      "cell_type": "code",
      "source": [
        "# 📥 Coleta de Dados\n",
        "print(\"=== Coleta de Informações do Projeto ===\")\n",
        "nome_cliente = input(\"Nome do cliente: \")\n",
        "area_a_reformar = float(input(\"Área a ser reformada (m²): \"))\n",
        "custo_material = float(input(\"Custo do material por m² (R$): \"))\n",
        "horas_trabalhadas = float(input(\"Horas estimadas de mão de obra: \"))\n",
        "valor_por_hora = float(input(\"Custo da hora de mão de obra (R$): \"))\n",
        "\n",
        "# 🧮 Cálculos\n",
        "custo_total_material = area_a_reformar * custo_material\n",
        "custo_total_mao_de_obra = horas_trabalhadas * valor_por_hora\n",
        "custo_total_estimado = custo_total_material + custo_total_mao_de_obra\n",
        "\n",
        "# 🧾 Exibição dos Resultados\n",
        "print(\"\\n=== Resumo do Orçamento ===\")\n",
        "print(f\"Cliente: {nome_cliente}\")\n",
        "print(f\"Custo total de materiais: R$ {custo_total_material:.2f}\")\n",
        "print(f\"Custo total de mão de obra: R$ {custo_total_mao_de_obra:.2f}\")\n",
        "print(f\"Orçamento total estimado: R$ {custo_total_estimado:.2f}\")\n",
        "\n",
        "# 🔍 Verificação de Tipos\n",
        "print(\"\\n=== Verificação de Tipos ===\")\n",
        "print(f\"Tipo da variável 'nome_cliente': {type(nome_cliente)}\")\n",
        "print(f\"Tipo da variável 'area_a_reformar': {type(area_a_reformar)}\")"
      ],
      "metadata": {
        "colab": {
          "base_uri": "https://localhost:8080/"
        },
        "id": "ddClvmTXwLzS",
        "outputId": "08e30991-e06f-4b99-fc03-4c843056a8c4"
      },
      "execution_count": 18,
      "outputs": [
        {
          "output_type": "stream",
          "name": "stdout",
          "text": [
            "=== Coleta de Informações do Projeto ===\n",
            "Nome do cliente: DevAnalista\n",
            "Área a ser reformada (m²): 10.5\n",
            "Custo do material por m² (R$): 100\n",
            "Horas estimadas de mão de obra: 2.5\n",
            "Custo da hora de mão de obra (R$): 50.00\n",
            "\n",
            "=== Resumo do Orçamento ===\n",
            "Cliente: DevAnalista\n",
            "Custo total de materiais: R$ 1050.00\n",
            "Custo total de mão de obra: R$ 125.00\n",
            "Orçamento total estimado: R$ 1175.00\n",
            "\n",
            "=== Verificação de Tipos ===\n",
            "Tipo da variável 'nome_cliente': <class 'str'>\n",
            "Tipo da variável 'area_a_reformar': <class 'float'>\n"
          ]
        }
      ]
    }
  ]
}