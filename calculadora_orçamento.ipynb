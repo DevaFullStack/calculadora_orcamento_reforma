{
  "nbformat": 4,
  "nbformat_minor": 0,
  "metadata": {
    "colab": {
      "provenance": [],
      "authorship_tag": "ABX9TyNQ3MRjopeJ0vdfMbitmmsL",
      "include_colab_link": true
    },
    "kernelspec": {
      "name": "python3",
      "display_name": "Python 3"
    },
    "language_info": {
      "name": "python"
    }
  },
  "cells": [
    {
      "cell_type": "markdown",
      "metadata": {
        "id": "view-in-github",
        "colab_type": "text"
      },
      "source": [
        "<a href=\"https://colab.research.google.com/github/DevaFullStack/calculadora_orcamento_reforma/blob/main/calculadora_or%C3%A7amento.ipynb\" target=\"_parent\"><img src=\"https://colab.research.google.com/assets/colab-badge.svg\" alt=\"Open In Colab\"/></a>"
      ]
    },
    {
      "cell_type": "markdown",
      "source": [
        "## Demanda do Cliente: Calculadora de Orçamento para Pequenas Reformas\n",
        "\n",
        "**Cenário:**\n",
        "\n",
        "Um pequeno empreiteiro que realiza reformas residenciais precisa de uma ferramenta simples para calcular orçamentos básicos para seus clientes. Atualmente, ele faz todos os cálculos manualmente, o que é demorado e propenso a erros. Ele precisa de um script que possa coletar informações sobre o projeto e calcular o custo total estimado, incluindo mão de obra e materiais.\n",
        "\n",
        "**Objetivo:**\n",
        "\n",
        "Desenvolver um script em Python que permita ao empreiteiro inserir os detalhes de uma reforma (área a ser reformada, custo do metro quadrado do material e custo da hora da mão de obra) e que calcule automaticamente o custo total estimado do projeto.\n",
        "\n",
        "**Requisitos:**\n",
        "\n",
        "1.  **Coleta de Dados:** O script deve solicitar ao usuário (empreiteiro) as seguintes informações usando a função `input()`:\n",
        "    *   O nome do cliente (string).\n",
        "    *   A área a ser reformada em metros quadrados (número decimal).\n",
        "    *   O custo estimado do material por metro quadrado (número decimal).\n",
        "    *   A quantidade de horas estimadas de mão de obra (número inteiro ou decimal).\n",
        "    *   O custo da hora da mão de obra (número decimal).\n",
        "2.  **Cálculos:** O script deve realizar os seguintes cálculos:\n",
        "    *   Custo total do material: `area_a_reformar * custo_material_por_metro_quadrado`.\n",
        "    *   Custo total da mão de obra: `quantidade_horas_mao_de_obra * custo_hora_mao_de_obra`.\n",
        "    *   Custo total estimado do projeto: `custo_total_material + custo_total_mao_de_obra`.\n",
        "    *   Utilizar variáveis numéricas para armazenar os valores e operadores aritméticos para realizar os cálculos.\n",
        "3.  **Exibição de Resultados:** O script deve exibir um resumo formatado do orçamento para o cliente usando a função `print()`. As informações a serem exibidas devem incluir:\n",
        "    *   Nome do cliente.\n",
        "    *   Custo total do material.\n",
        "    *   Custo total da mão de obra.\n",
        "    *   Custo total estimado do projeto.\n",
        "    *   A formatação da saída deve ser clara e legível, indicando o que cada valor representa.\n"
      ],
      "metadata": {
        "id": "W_4PrHP7jN5I"
      }
    },
    {
      "cell_type": "code",
      "source": [
        "# Coletar os dados necessários\n",
        "\n",
        "nome_cliente = input(\"Digite o nome do cliente: \")\n",
        "area_a_reformar = input(\"Digite a área a ser reformada em metros quadrados: \")\n",
        "custo_material = input(\"Digite o custo do material por metro quadrado: \")\n",
        "horas_trabalhadas = input(\"Digite a quantidade de horas estimadas de mão de obra: \")\n",
        "valor_por_hora =input(\"Digite o custo da hora da mão de obra: \")"
      ],
      "metadata": {
        "colab": {
          "base_uri": "https://localhost:8080/"
        },
        "id": "xtiYc5MDkLZp",
        "outputId": "9991f8c3-316d-4090-c1c2-0973cf30c3f7"
      },
      "execution_count": 14,
      "outputs": [
        {
          "name": "stdout",
          "output_type": "stream",
          "text": [
            "Digite o nome do cliente: DevAnalista\n",
            "Digite a área a ser reformada em metros quadrados: 10.5\n",
            "Digite o custo do material por metro quadrado: 100.00\n",
            "Digite a quantidade de horas estimadas de mão de obra: 2.5\n",
            "Digite o custo da hora da mão de obra: 50\n"
          ]
        }
      ]
    },
    {
      "cell_type": "code",
      "source": [
        "# Calculos\n",
        "\n",
        "custo_total_material = float(area_a_reformar) * float(custo_material)\n",
        "custo_total_mao_de_obra = float(horas_trabalhadas) * float(valor_por_hora)\n",
        "\n",
        "# Calcular o custo total do projeto\n",
        "custo_total_estimado = custo_total_material + custo_total_mao_de_obra"
      ],
      "metadata": {
        "id": "VxMGpB1umu0k"
      },
      "execution_count": 15,
      "outputs": []
    },
    {
      "cell_type": "code",
      "source": [
        "# Exibir o resultado formatado\n",
        "\n",
        "print(f\"Nome do cliente: {nome_cliente}\")\n",
        "print(f\"Custo total do material: R$ {custo_total_material:.2f}\")\n",
        "print(f\"Custo total da mão de obra: R$ {custo_total_mao_de_obra:.2f}\")\n",
        "print(f\"Custo total estimado do projeto: R$ {custo_total_estimado:.2f}\")"
      ],
      "metadata": {
        "colab": {
          "base_uri": "https://localhost:8080/"
        },
        "id": "Wor5D7YdnQip",
        "outputId": "6e103bc0-52c1-455f-d3d6-ed3f76bd66bf"
      },
      "execution_count": 16,
      "outputs": [
        {
          "output_type": "stream",
          "name": "stdout",
          "text": [
            "Nome do cliente: DevAnalista\n",
            "Custo total do material: R$ 1050.00\n",
            "Custo total da mão de obra: R$ 125.00\n",
            "Custo total estimado do projeto: R$ 1175.00\n"
          ]
        }
      ]
    }
  ]
}